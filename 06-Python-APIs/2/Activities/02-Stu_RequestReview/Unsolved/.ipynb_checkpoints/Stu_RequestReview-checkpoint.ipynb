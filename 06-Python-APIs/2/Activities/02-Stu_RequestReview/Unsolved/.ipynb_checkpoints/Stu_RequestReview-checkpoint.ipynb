{
 "cells": [
  {
   "cell_type": "code",
   "execution_count": 1,
   "metadata": {},
   "outputs": [],
   "source": [
    "# Dependencies\n",
    "import json\n",
    "import requests "
   ]
  },
  {
   "cell_type": "code",
   "execution_count": 2,
   "metadata": {},
   "outputs": [
    {
     "name": "stdout",
     "output_type": "stream",
     "text": [
      "[\n",
      "    {\n",
      "        \"__v\": 0,\n",
      "        \"_id\": \"5cafc79652e18d00152e42e4\",\n",
      "        \"date\": \"2019-04-11T23:02:46.643Z\",\n",
      "        \"headline\": \"Magic Johnson Always Set His Sights Beyond Basketball\",\n",
      "        \"saved\": false,\n",
      "        \"summary\": \"The former superstar\\u2019s abrupt departure from the Lakers is the latest example of his interest in non-basketball endeavors.\",\n",
      "        \"url\": \"https://www.nytimes.com/2019/04/11/sports/magic-johnson-lakers.html\"\n",
      "    },\n",
      "    {\n",
      "        \"__v\": 0,\n",
      "        \"_id\": \"5cafc79652e18d00152e42e5\",\n",
      "        \"date\": \"2019-04-11T23:02:46.643Z\",\n",
      "        \"headline\": \"I Thought I Could Serve as an Openly Gay Man in the Army. Then Came the Death Threats.\",\n",
      "        \"saved\": false,\n",
      "        \"summary\": \"A former soldier recounts the harassment he endured for being open about his sexuality, even after \\u201cdon\\u2019t ask; don\\u2019t tell\\u201d was repealed.\",\n",
      "        \"url\": \"https://www.nytimes.com/2019/04/10/magazine/lgbt-military-army.html\"\n",
      "    },\n",
      "    {\n",
      "        \"__v\": 0,\n",
      "        \"_id\": \"5cafc79652e18d00152e42e3\",\n",
      "        \"date\": \"2019-04-11T23:02:46.643Z\",\n",
      "        \"headline\": \"It\\u2019s Time to Panic About Our Data\",\n",
      "        \"saved\": false,\n",
      "        \"summary\": \"Facial recognition technology is spreading fast, with alarming consequences.\",\n",
      "        \"url\": \"https://www.nytimes.com/interactive/2019/04/10/opinion/internet-data-privacy.html\"\n",
      "    },\n",
      "    {\n",
      "        \"__v\": 0,\n",
      "        \"_id\": \"5cafc79652e18d00152e42e1\",\n",
      "        \"date\": \"2019-04-11T23:02:46.642Z\",\n",
      "        \"headline\": \"Israeli Nonprofit\\u2019s Moon Landing Attempt Appears to End in Crash\",\n",
      "        \"saved\": false,\n",
      "        \"summary\": \"The failure highlighted the challenges of a fast and cheap approach to space exploration.\",\n",
      "        \"url\": \"https://www.nytimes.com/2019/04/11/science/scott-mark-kelly-twins-space-nasa.html\"\n",
      "    },\n",
      "    {\n",
      "        \"__v\": 0,\n",
      "        \"_id\": \"5cafc79652e18d00152e42df\",\n",
      "        \"date\": \"2019-04-11T23:02:46.642Z\",\n",
      "        \"headline\": \"Seven Strange Years in Self-Imposed Isolation\",\n",
      "        \"saved\": false,\n",
      "        \"summary\": \"At the tiny Ecuadorean Embassy, he ran WikiLeaks, held news conferences, rode his skateboard in the halls and hosted visitors like Pamela Anderson.\",\n",
      "        \"url\": \"https://www.nytimes.com/2019/04/11/world/europe/julian-assange-wikileaks-ecuador-embassy.html\"\n",
      "    },\n",
      "    {\n",
      "        \"__v\": 0,\n",
      "        \"_id\": \"5cafc79652e18d00152e42e0\",\n",
      "        \"date\": \"2019-04-11T23:02:46.642Z\",\n",
      "        \"headline\": \"After a Year in Orbit, Scott Kelly\\u2019s Body Is Not the SameIsraeli Nonprofit\\u2019s Moon Landing Attempt Appears to End in CrashSpaceX\\u2019s Falcon Heavy successfully launched for a second time.\",\n",
      "        \"saved\": false,\n",
      "        \"summary\": \"The failure highlighted the challenges of a fast and cheap approach to space exploration.\",\n",
      "        \"url\": \"https://www.nytimes.com/2019/04/11/science/scott-mark-kelly-twins-space-nasa.html\"\n",
      "    },\n",
      "    {\n",
      "        \"__v\": 0,\n",
      "        \"_id\": \"5cafc79652e18d00152e42e2\",\n",
      "        \"date\": \"2019-04-11T23:02:46.642Z\",\n",
      "        \"headline\": \"Lil Nas X\\u2019s Smash Makes Country Wonder if Rap Is Friend or Foe. Again.\",\n",
      "        \"saved\": false,\n",
      "        \"summary\": \"The viral success of \\u201cOld Town Road\\u201d has turned the 20-year-old rapper into an overnight sensation and rebooted conversations about who is allowed to represent the rural experience.\",\n",
      "        \"url\": \"https://www.nytimes.com/2019/04/11/arts/music/lil-nas-x-old-town-road-country-rap.html\"\n",
      "    },\n",
      "    {\n",
      "        \"__v\": 0,\n",
      "        \"_id\": \"5cafc79652e18d00152e42de\",\n",
      "        \"date\": \"2019-04-11T23:02:46.641Z\",\n",
      "        \"headline\": \"Julian Assange Is Arrested; Faces Charge in 2010 U.S. LeakSeven Strange Years in Self-Imposed IsolationThe case against Mr. Assange could yet have implications for American press freedoms.\",\n",
      "        \"saved\": false,\n",
      "        \"summary\": \"At the tiny Ecuadorean Embassy, he ran WikiLeaks, held news conferences, rode his skateboard in the halls and hosted visitors like Pamela Anderson.\",\n",
      "        \"url\": \"https://www.nytimes.com/2019/04/11/world/europe/julian-assange-wikileaks-ecuador-embassy.html\"\n",
      "    }\n",
      "]\n"
     ]
    }
   ],
   "source": [
    "# Specify the URL\n",
    "url = 'http://nyt-mongo-scraper.herokuapp.com/api/headlines'\n",
    "# Make request and store response\n",
    "\n",
    "response = requests.get(url).json()\n",
    "print(json.dumps(response, indent=4, sort_keys=True))"
   ]
  },
  {
   "cell_type": "code",
   "execution_count": null,
   "metadata": {
    "collapsed": true
   },
   "outputs": [],
   "source": [
    "# JSON-ify response"
   ]
  },
  {
   "cell_type": "code",
   "execution_count": null,
   "metadata": {
    "collapsed": true,
    "scrolled": true
   },
   "outputs": [],
   "source": [
    "# Print first and last articles"
   ]
  },
  {
   "cell_type": "code",
   "execution_count": null,
   "metadata": {
    "collapsed": true
   },
   "outputs": [],
   "source": [
    "#Print the number of responses received."
   ]
  }
 ],
 "metadata": {
  "kernelspec": {
   "display_name": "Python 3",
   "language": "python",
   "name": "python3"
  },
  "language_info": {
   "codemirror_mode": {
    "name": "ipython",
    "version": 3
   },
   "file_extension": ".py",
   "mimetype": "text/x-python",
   "name": "python",
   "nbconvert_exporter": "python",
   "pygments_lexer": "ipython3",
   "version": "3.6.7"
  },
  "varInspector": {
   "cols": {
    "lenName": 16,
    "lenType": 16,
    "lenVar": 40
   },
   "kernels_config": {
    "python": {
     "delete_cmd_postfix": "",
     "delete_cmd_prefix": "del ",
     "library": "var_list.py",
     "varRefreshCmd": "print(var_dic_list())"
    },
    "r": {
     "delete_cmd_postfix": ") ",
     "delete_cmd_prefix": "rm(",
     "library": "var_list.r",
     "varRefreshCmd": "cat(var_dic_list()) "
    }
   },
   "types_to_exclude": [
    "module",
    "function",
    "builtin_function_or_method",
    "instance",
    "_Feature"
   ],
   "window_display": false
  }
 },
 "nbformat": 4,
 "nbformat_minor": 2
}
