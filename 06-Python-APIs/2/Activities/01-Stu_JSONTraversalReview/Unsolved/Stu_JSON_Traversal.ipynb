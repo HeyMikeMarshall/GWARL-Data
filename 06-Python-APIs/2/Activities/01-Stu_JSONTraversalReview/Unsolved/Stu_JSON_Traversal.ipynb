{
 "cells": [
  {
   "cell_type": "code",
   "execution_count": 44,
   "metadata": {},
   "outputs": [],
   "source": [
    "# Dependencies\n",
    "import json\n",
    "import os\n",
    "import pandas as pd\n",
    "from pprint import pprint\n",
    "\n",
    "\n",
    "# Load JSON\n",
    "filepath = os.path.join(\"..\", \"Resources\", \"youtube_response.json\")\n",
    "with open(filepath) as jsonfile:\n",
    "    json_data = json.load(jsonfile)"
   ]
  },
  {
   "cell_type": "code",
   "execution_count": 53,
   "metadata": {},
   "outputs": [
    {
     "name": "stdout",
     "output_type": "stream",
     "text": [
      "[\n",
      "   {\n",
      "      \"id\": \"hYB0mn5zh2c\",\n",
      "      \"uploaded\": \"2007-06-05T22:07:03.000Z\",\n",
      "      \"updated\": \"2010-01-07T13:26:50.000Z\",\n",
      "      \"uploader\": \"GoogleDeveloperDay\",\n",
      "      \"category\": \"News\",\n",
      "      \"title\": \"Google Developers Day US - Maps API Introduction\",\n",
      "      \"description\": \"Google Maps API Introduction ...\",\n",
      "      \"tags\": [\n",
      "         \"GDD07\",\n",
      "         \"GDD07US\",\n",
      "         \"Maps\"\n",
      "      ],\n",
      "      \"thumbnail\": {\n",
      "         \"default\": \"http://i.ytimg.com/vi/hYB0mn5zh2c/default.jpg\",\n",
      "         \"hqDefault\": \"http://i.ytimg.com/vi/hYB0mn5zh2c/hqdefault.jpg\"\n",
      "      },\n",
      "      \"player\": {\n",
      "         \"default\": \"http://www.youtube.com/watch?vu003dhYB0mn5zh2c\"\n",
      "      },\n",
      "      \"content\": {\n",
      "         \"1\": \"rtsp://v5.cache3.c.youtube.com/CiILENy.../0/0/0/video.3gp\",\n",
      "         \"5\": \"http://www.youtube.com/v/hYB0mn5zh2c?f...\",\n",
      "         \"6\": \"rtsp://v1.cache1.c.youtube.com/CiILENy.../0/0/0/video.3gp\"\n",
      "      },\n",
      "      \"duration\": 2840,\n",
      "      \"aspectRatio\": \"widescreen\",\n",
      "      \"rating\": 4.63,\n",
      "      \"ratingCount\": 68,\n",
      "      \"viewCount\": 220101,\n",
      "      \"favoriteCount\": 201,\n",
      "      \"commentCount\": 22,\n",
      "      \"status\": {\n",
      "         \"value\": \"restricted\",\n",
      "         \"reason\": \"limitedSyndication\"\n",
      "      },\n",
      "      \"accessControl\": {\n",
      "         \"syndicate\": \"allowed\",\n",
      "         \"commentVote\": \"allowed\",\n",
      "         \"rate\": \"allowed\",\n",
      "         \"list\": \"allowed\",\n",
      "         \"comment\": \"allowed\",\n",
      "         \"embed\": \"allowed\",\n",
      "         \"videoRespond\": \"moderated\"\n",
      "      }\n",
      "   }\n",
      "]\n"
     ]
    }
   ],
   "source": [
    "print(json.dumps(json_data['data']['items'], indent=3))"
   ]
  },
  {
   "cell_type": "code",
   "execution_count": 39,
   "metadata": {},
   "outputs": [
    {
     "name": "stdout",
     "output_type": "stream",
     "text": [
      "Google Developers Day US - Maps API Introduction\n",
      "4.63\n",
      "http://i.ytimg.com/vi/hYB0mn5zh2c/default.jpg\n",
      "220101\n"
     ]
    }
   ],
   "source": [
    "details = json_data['data']['items'][0]\n",
    "\n",
    "# * Retrieve the video's title\n",
    "print(details['title'])\n",
    "\n",
    "\n",
    "# * Retrieve the video's rating\n",
    "print(details['rating'])\n",
    "\n",
    "# * Retrieve the link to the video's thumbnail\n",
    "print(details['thumbnail']['default'])\n",
    "\n",
    "\n",
    "# * Retrieve the number of views this video has\n",
    "print(details['viewCount'])\n"
   ]
  },
  {
   "cell_type": "code",
   "execution_count": null,
   "metadata": {},
   "outputs": [],
   "source": []
  }
 ],
 "metadata": {
  "kernelspec": {
   "display_name": "Python 3",
   "language": "python",
   "name": "python3"
  },
  "language_info": {
   "codemirror_mode": {
    "name": "ipython",
    "version": 3
   },
   "file_extension": ".py",
   "mimetype": "text/x-python",
   "name": "python",
   "nbconvert_exporter": "python",
   "pygments_lexer": "ipython3",
   "version": "3.6.7"
  }
 },
 "nbformat": 4,
 "nbformat_minor": 2
}
