{
 "cells": [
  {
   "cell_type": "code",
   "execution_count": 1,
   "metadata": {},
   "outputs": [],
   "source": [
    "# Modules\n",
    "import os\n",
    "import csv"
   ]
  },
  {
   "cell_type": "code",
   "execution_count": 2,
   "metadata": {},
   "outputs": [
    {
     "name": "stdout",
     "output_type": "stream",
     "text": [
      "What show or movie are you looking for? Narcos\n"
     ]
    }
   ],
   "source": [
    "found = False\n",
    "video = input(\"What show or movie are you looking for? \")"
   ]
  },
  {
   "cell_type": "code",
   "execution_count": 3,
   "metadata": {},
   "outputs": [],
   "source": [
    "csvpath = os.path.join(\".\", \"Resources\", \"netflix_ratings.csv\")"
   ]
  },
  {
   "cell_type": "code",
   "execution_count": 4,
   "metadata": {},
   "outputs": [
    {
     "name": "stdout",
     "output_type": "stream",
     "text": [
      "Sorry about this, we don't seem to have what you are looking for!\n",
      "Sorry about this, we don't seem to have what you are looking for!\n",
      "Sorry about this, we don't seem to have what you are looking for!\n",
      "Sorry about this, we don't seem to have what you are looking for!\n",
      "Sorry about this, we don't seem to have what you are looking for!\n",
      "Sorry about this, we don't seem to have what you are looking for!\n",
      "Sorry about this, we don't seem to have what you are looking for!\n",
      "Sorry about this, we don't seem to have what you are looking for!\n",
      "Sorry about this, we don't seem to have what you are looking for!\n",
      "Sorry about this, we don't seem to have what you are looking for!\n",
      "Sorry about this, we don't seem to have what you are looking for!\n",
      "Sorry about this, we don't seem to have what you are looking for!\n",
      "Sorry about this, we don't seem to have what you are looking for!\n",
      "Sorry about this, we don't seem to have what you are looking for!\n",
      "Sorry about this, we don't seem to have what you are looking for!\n",
      "Sorry about this, we don't seem to have what you are looking for!\n",
      "Sorry about this, we don't seem to have what you are looking for!\n",
      "Sorry about this, we don't seem to have what you are looking for!\n",
      "Sorry about this, we don't seem to have what you are looking for!\n",
      "Sorry about this, we don't seem to have what you are looking for!\n",
      "Sorry about this, we don't seem to have what you are looking for!\n",
      "Sorry about this, we don't seem to have what you are looking for!\n",
      "Sorry about this, we don't seem to have what you are looking for!\n",
      "Sorry about this, we don't seem to have what you are looking for!\n",
      "Sorry about this, we don't seem to have what you are looking for!\n",
      "Sorry about this, we don't seem to have what you are looking for!\n",
      "Sorry about this, we don't seem to have what you are looking for!\n",
      "Narcos is rated TV-MA with a rating of 94\n"
     ]
    }
   ],
   "source": [
    "with open(csvpath, newline=\"\") as csvfile:\n",
    "    csvreader = csv.reader(csvfile, delimiter=\",\")\n",
    "    for row in csvreader:\n",
    "        if row[0] == video:\n",
    "            print(row[0] + \" is rated \" + row[1] + \" with a rating of \" + row[5])\n",
    "            found = True\n",
    "            break\n",
    "        if found is False:\n",
    "            print(\"Sorry about this, we don't seem to have what you are looking for!\")"
   ]
  },
  {
   "cell_type": "code",
   "execution_count": null,
   "metadata": {},
   "outputs": [],
   "source": []
  }
 ],
 "metadata": {
  "kernelspec": {
   "display_name": "Python 3",
   "language": "python",
   "name": "python3"
  },
  "language_info": {
   "codemirror_mode": {
    "name": "ipython",
    "version": 3
   },
   "file_extension": ".py",
   "mimetype": "text/x-python",
   "name": "python",
   "nbconvert_exporter": "python",
   "pygments_lexer": "ipython3",
   "version": "3.6.7"
  }
 },
 "nbformat": 4,
 "nbformat_minor": 2
}
